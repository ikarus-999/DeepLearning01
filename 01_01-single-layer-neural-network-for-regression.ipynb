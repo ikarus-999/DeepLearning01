{
 "cells": [
  {
   "cell_type": "markdown",
   "metadata": {
    "collapsed": true
   },
   "source": [
    "# Single Layer Neural Network\n",
    "\n",
    "이번 시간에는 딥러닝 알고리즘의 가장 기본이 되는 인공신경망(artificial neural network, ANN), 그 중에서도 single-layer neural network 모델을 구현합니다. 오늘은 크게 크게 세 가지 방식, 1) Random Search, 2) h-step Search, 3) Gradient Descent 로 모델을 학습하는 법을 배우며, 이 중에 어떤 것이 가장 좋고 어떤 것을 선택해야하는지를 배웁니다.\n"
   ]
  },
  {
   "cell_type": "code",
   "execution_count": 1,
   "metadata": {},
   "outputs": [],
   "source": [
    "import numpy as np"
   ]
  },
  {
   "cell_type": "markdown",
   "metadata": {},
   "source": [
    "## Case 1 - 0.3 x X1 + 0.5 x X2"
   ]
  },
  {
   "cell_type": "markdown",
   "metadata": {},
   "source": [
    "### Load Dataset"
   ]
  },
  {
   "cell_type": "code",
   "execution_count": 2,
   "metadata": {},
   "outputs": [
    {
     "name": "stdout",
     "output_type": "stream",
     "text": [
      "(100,)\n"
     ]
    },
    {
     "data": {
      "text/plain": [
       "array([0.55273264, 0.89421105, 0.73699131, 0.23789136, 0.08832845,\n",
       "       0.19622518, 0.3062424 , 0.26894921, 0.23964539, 0.80209015])"
      ]
     },
     "execution_count": 2,
     "metadata": {},
     "output_type": "execute_result"
    }
   ],
   "source": [
    "x1 = np.random.rand(100)\n",
    "\n",
    "print(x1.shape)\n",
    "x1[:10]"
   ]
  },
  {
   "cell_type": "code",
   "execution_count": 3,
   "metadata": {},
   "outputs": [
    {
     "name": "stdout",
     "output_type": "stream",
     "text": [
      "(100,)\n"
     ]
    },
    {
     "data": {
      "text/plain": [
       "array([0.27074956, 0.71918693, 0.6369782 , 0.50843926, 0.68968431,\n",
       "       0.73483579, 0.26951577, 0.86781141, 0.23921792, 0.46951943])"
      ]
     },
     "execution_count": 3,
     "metadata": {},
     "output_type": "execute_result"
    }
   ],
   "source": [
    "x2 = np.random.rand(100)\n",
    "\n",
    "print(x2.shape)\n",
    "x2[:10]"
   ]
  },
  {
   "cell_type": "code",
   "execution_count": 4,
   "metadata": {},
   "outputs": [
    {
     "name": "stdout",
     "output_type": "stream",
     "text": [
      "(100,)\n"
     ]
    },
    {
     "data": {
      "text/plain": [
       "array([0.40119457, 0.72785678, 0.6395865 , 0.42558704, 0.47134069,\n",
       "       0.52628545, 0.32663061, 0.61459047, 0.29150258, 0.57538676])"
      ]
     },
     "execution_count": 4,
     "metadata": {},
     "output_type": "execute_result"
    }
   ],
   "source": [
    "y = 0.3 * x1 + 0.5 * x2 + 0.1\n",
    "\n",
    "print(y.shape)\n",
    "y[:10]"
   ]
  },
  {
   "cell_type": "markdown",
   "metadata": {},
   "source": [
    "### First idea: Random Search"
   ]
  },
  {
   "cell_type": "code",
   "execution_count": 5,
   "metadata": {},
   "outputs": [
    {
     "name": "stdout",
     "output_type": "stream",
     "text": [
      "   0 w1 = 0.16720, w2 = 0.10272, b = -0.72859, error = 1.09869\n",
      "   1 w1 = 0.82804, w2 = 0.53150, b = 0.84809, error = 1.03204\n",
      "   2 w1 = 0.80962, w2 = 0.07287, b = -0.77298, error = 0.83242\n",
      "   4 w1 = -0.18429, w2 = 0.12042, b = 0.37839, error = 0.19042\n",
      "   7 w1 = 0.05444, w2 = 0.00767, b = 0.40372, error = 0.14693\n",
      "  21 w1 = -0.14689, w2 = 0.21581, b = 0.45108, error = 0.13260\n",
      "  60 w1 = 0.03061, w2 = 0.57022, b = 0.07129, error = 0.13072\n",
      "  96 w1 = -0.06154, w2 = 0.79950, b = 0.06346, error = 0.12450\n",
      " 216 w1 = 0.65567, w2 = 0.26152, b = 0.12255, error = 0.12167\n",
      " 264 w1 = 0.12405, w2 = 0.74461, b = 0.15717, error = 0.10481\n",
      " 409 w1 = 0.58461, w2 = 0.44052, b = -0.07694, error = 0.08539\n",
      " 785 w1 = 0.55593, w2 = 0.31329, b = 0.09222, error = 0.07776\n",
      " 806 w1 = 0.28493, w2 = 0.56734, b = 0.13940, error = 0.06612\n",
      "1001 w1 = 0.20557, w2 = 0.39686, b = 0.16333, error = 0.04413\n",
      "1464 w1 = 0.43189, w2 = 0.49839, b = 0.01952, error = 0.03420\n",
      "5299 w1 = 0.28513, w2 = 0.58166, b = 0.06983, error = 0.02158\n",
      "8574 w1 = 0.31463, w2 = 0.49945, b = 0.11228, error = 0.01942\n",
      "------------------------------------------------------------\n",
      "8574 w1 = 0.31463, w2 = 0.49945, b = 0.11228, error = 0.01942\n"
     ]
    }
   ],
   "source": [
    "num_epoch = 10000\n",
    "\n",
    "best_error = np.inf\n",
    "best_epoch = None\n",
    "best_w1 = None\n",
    "best_w2 = None\n",
    "best_b = None\n",
    "\n",
    "for epoch in range(num_epoch):\n",
    "    w1 = np.random.uniform(low=-1.0, high=1.0)\n",
    "    w2 = np.random.uniform(low=-1.0, high=1.0)\n",
    "    b = np.random.uniform(low=-1.0, high=1.0)\n",
    "\n",
    "    y_predict = x1 * w1 + x2 * w2 + b\n",
    "    \n",
    "    error = np.abs(y_predict - y).mean()\n",
    "    \n",
    "    if error < best_error:\n",
    "        best_error = error\n",
    "        best_epoch = epoch\n",
    "        best_w1 = w1\n",
    "        best_w2 = w2\n",
    "        best_b = b\n",
    "\n",
    "        print(\"{0:4} w1 = {1:.5f}, w2 = {2:.5f}, b = {3:.5f}, error = {4:.5f}\".format(epoch, w1, w2, b, error))\n",
    "\n",
    "print(\"----\" * 15)\n",
    "print(\"{0:4} w1 = {1:.5f}, w2 = {2:.5f}, b = {3:.5f}, error = {4:.5f}\".format(best_epoch, best_w1, best_w2, best_b, best_error))"
   ]
  },
  {
   "cell_type": "markdown",
   "metadata": {},
   "source": [
    "### Case 2 - h-step Search"
   ]
  },
  {
   "cell_type": "code",
   "execution_count": 6,
   "metadata": {},
   "outputs": [
    {
     "name": "stdout",
     "output_type": "stream",
     "text": [
      "109 w1 = 0.29811, w2 = 0.51574 b = 0.09606 error = 0.00472\n"
     ]
    }
   ],
   "source": [
    "num_epoch = 15000\n",
    "\n",
    "w1 = np.random.uniform(low=-1.0, high=1.0)\n",
    "w2 = np.random.uniform(low=-1.0, high=1.0)\n",
    "b = np.random.uniform(low=-1.0, high=1.0)\n",
    "\n",
    "h = 0.01\n",
    "\n",
    "for epoch in range(num_epoch):\n",
    "    y_predict = x1 * w1 + x2 * w2 + b\n",
    "    current_error = np.abs(y_predict - y).mean()\n",
    "\n",
    "    if current_error < 0.005:\n",
    "        break\n",
    "\n",
    "    y_predict = x1 * (w1 + h) + x2 * w2 + b\n",
    "    h_plus_error = np.abs(y_predict - y).mean()\n",
    "    if h_plus_error < current_error:\n",
    "        w1 = w1 + h\n",
    "    else:\n",
    "        y_predict = x1 * (w1 - h) + x2 * w2 + b\n",
    "        h_minus_error = np.abs(y_predict - y).mean()\n",
    "        if h_minus_error < current_error:\n",
    "            w1 = w1 - h\n",
    "            \n",
    "    y_predict = x1 * w1 + x2 * (w2 + h) + b\n",
    "    h_plus_error = np.abs(y_predict - y).mean()\n",
    "    if h_plus_error < current_error:\n",
    "        w2 = w2 + h\n",
    "    else:\n",
    "        y_predict = x1 * w1 + x2 * (w2 - h) + b\n",
    "        h_minus_error = np.abs(y_predict - y).mean()\n",
    "        if h_minus_error < current_error:\n",
    "            w2 = w2 - h\n",
    "\n",
    "    y_predict = x1 * w1 + x2 * w2 + (b + h)\n",
    "    h_plus_error = np.abs(y_predict - y).mean()\n",
    "    if h_plus_error < current_error:\n",
    "        b = b + h\n",
    "    else:\n",
    "        y_predict = x1 * w1 + x2 * w2 + (b - h)\n",
    "        h_minus_error = np.abs(y_predict - y).mean()\n",
    "        if h_minus_error < current_error:\n",
    "            b = b - h\n",
    "\n",
    "print(\"{0} w1 = {1:.5f}, w2 = {2:.5f} b = {3:.5f} error = {4:.5f}\".format(epoch, w1, w2, b, current_error))"
   ]
  },
  {
   "cell_type": "markdown",
   "metadata": {},
   "source": [
    "### Third Idea - Gradient Descent"
   ]
  },
  {
   "cell_type": "code",
   "execution_count": 7,
   "metadata": {},
   "outputs": [
    {
     "name": "stdout",
     "output_type": "stream",
     "text": [
      " 0 w1 = 0.63523, w2 = 0.44607 b = 0.85886 error = 1.25571\n",
      "10 w1 = 0.29730, w2 = 0.34217 b = 0.21379 error = 0.05609\n",
      "20 w1 = 0.28380, w2 = 0.42229 b = 0.15153 error = 0.02204\n",
      "30 w1 = 0.28724, w2 = 0.46289 b = 0.12695 error = 0.01067\n",
      "40 w1 = 0.29163, w2 = 0.48202 b = 0.11422 error = 0.00536\n",
      "------------------------------------------------------------\n",
      "42 w1 = 0.29202, w2 = 0.48326 b = 0.11334 error = 0.00468\n"
     ]
    }
   ],
   "source": [
    "num_epoch = 100\n",
    "learning_rate = 1.1\n",
    "\n",
    "w1 = np.random.uniform(low=-1.0, high=1.0)\n",
    "w2 = np.random.uniform(low=-1.0, high=1.0)\n",
    "b = np.random.uniform(low=-1.0, high=1.0)\n",
    "\n",
    "for epoch in range(num_epoch):\n",
    "    y_predict = x1 * w1 + x2 * w2 + b\n",
    "\n",
    "    error = np.abs(y_predict - y).mean()\n",
    "    if error < 0.005:\n",
    "        break\n",
    "\n",
    "    w1 = w1 - learning_rate * ((y_predict - y) * x1).mean()\n",
    "    w2 = w2 - learning_rate * ((y_predict - y) * x2).mean()\n",
    "    b = b - learning_rate * (y_predict - y).mean()\n",
    "\n",
    "    if epoch % 10 == 0:\n",
    "        print(\"{0:2} w1 = {1:.5f}, w2 = {2:.5f} b = {3:.5f} error = {4:.5f}\".format(epoch, w1, w2, b, error))\n",
    "    \n",
    "print(\"----\" * 15)\n",
    "print(\"{0:2} w1 = {1:.5f}, w2 = {2:.5f} b = {3:.5f} error = {4:.5f}\".format(epoch, w1, w2, b, error))"
   ]
  },
  {
   "cell_type": "code",
   "execution_count": null,
   "metadata": {},
   "outputs": [],
   "source": []
  },
  {
   "cell_type": "code",
   "execution_count": null,
   "metadata": {},
   "outputs": [],
   "source": []
  },
  {
   "cell_type": "code",
   "execution_count": null,
   "metadata": {},
   "outputs": [],
   "source": []
  },
  {
   "cell_type": "code",
   "execution_count": 8,
   "metadata": {},
   "outputs": [
    {
     "name": "stdout",
     "output_type": "stream",
     "text": [
      " 0 w1 = -0.28433, w2 = 0.17431 b = 1.00120 error = 0.54307\n",
      "10 w1 = -0.06276, w2 = 0.24165 b = 0.44684 error = 0.12318\n",
      "20 w1 = 0.11247, w2 = 0.35496 b = 0.27956 error = 0.06483\n",
      "30 w1 = 0.20332, w2 = 0.42073 b = 0.19483 error = 0.03415\n",
      "40 w1 = 0.24989, w2 = 0.45708 b = 0.15014 error = 0.01801\n",
      "50 w1 = 0.27391, w2 = 0.47691 b = 0.12651 error = 0.00950\n",
      "60 w1 = 0.28636, w2 = 0.48763 b = 0.11401 error = 0.00502\n",
      "------------------------------------------------------------\n",
      "61 w1 = 0.28636, w2 = 0.48763 b = 0.11401 error = 0.00471\n"
     ]
    }
   ],
   "source": [
    "num_epoch = 100\n",
    "learning_rate = 1.1\n",
    "\n",
    "w1 = np.random.uniform(low=-1.0, high=1.0)\n",
    "w2 = np.random.uniform(low=-1.0, high=1.0)\n",
    "b = np.random.uniform(low=-1.0, high=1.0)\n",
    "\n",
    "for epoch in range(num_epoch):\n",
    "    y_predict = x1 * w1 + x2 * w2 + b\n",
    "\n",
    "    error = np.abs(y_predict - y).mean()\n",
    "    if error < 0.005:\n",
    "        break\n",
    "\n",
    "    w1 = w1 - learning_rate * ((y_predict - y) * x1).mean()\n",
    "    w2 = w2 - learning_rate * ((y_predict - y) * x2).mean()\n",
    "    b = b - learning_rate * (y_predict - y).mean()\n",
    "\n",
    "    if epoch % 10 == 0:\n",
    "        print(\"{0:2} w1 = {1:.5f}, w2 = {2:.5f} b = {3:.5f} error = {4:.5f}\".format(epoch, w1, w2, b, error))\n",
    "\n",
    "print(\"----\" * 15)\n",
    "print(\"{0:2} w1 = {1:.5f}, w2 = {2:.5f} b = {3:.5f} error = {4:.5f}\".format(epoch, w1, w2, b, error))"
   ]
  },
  {
   "cell_type": "code",
   "execution_count": null,
   "metadata": {},
   "outputs": [],
   "source": []
  }
 ],
 "metadata": {
  "kernelspec": {
   "display_name": "Python 3",
   "language": "python",
   "name": "python3"
  },
  "language_info": {
   "codemirror_mode": {
    "name": "ipython",
    "version": 3
   },
   "file_extension": ".py",
   "mimetype": "text/x-python",
   "name": "python",
   "nbconvert_exporter": "python",
   "pygments_lexer": "ipython3",
   "version": "3.6.5"
  }
 },
 "nbformat": 4,
 "nbformat_minor": 1
}
